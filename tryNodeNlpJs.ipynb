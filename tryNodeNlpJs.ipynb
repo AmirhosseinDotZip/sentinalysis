{
  "nbformat": 4,
  "nbformat_minor": 0,
  "metadata": {
    "colab": {
      "provenance": []
    },
    "kernelspec": {
      "name": "python3",
      "display_name": "Python 3"
    },
    "language_info": {
      "name": "python"
    }
  },
  "cells": [
    {
      "cell_type": "code",
      "execution_count": null,
      "metadata": {
        "id": "8WEwSH6rl_EN"
      },
      "outputs": [],
      "source": [
        "!apt install nodejs"
      ]
    },
    {
      "cell_type": "code",
      "source": [
        "!node -v"
      ],
      "metadata": {
        "colab": {
          "base_uri": "https://localhost:8080/"
        },
        "id": "aAQXwRdmmBpO",
        "outputId": "29633fcf-e5fc-4b66-e006-41e8ec428603"
      },
      "execution_count": 2,
      "outputs": [
        {
          "output_type": "stream",
          "name": "stdout",
          "text": [
            "v10.19.0\n"
          ]
        }
      ]
    },
    {
      "cell_type": "code",
      "source": [
        "!npm install node-nlp"
      ],
      "metadata": {
        "colab": {
          "base_uri": "https://localhost:8080/"
        },
        "id": "CA4LmkrTmVQ2",
        "outputId": "ed556746-c4f0-4ca2-f670-ebd52b85483a"
      },
      "execution_count": 4,
      "outputs": [
        {
          "output_type": "stream",
          "name": "stdout",
          "text": [
            "\u001b[K\u001b[?25h\u001b[37;40mnpm\u001b[0m \u001b[0m\u001b[30;43mWARN\u001b[0m \u001b[0m\u001b[35msaveError\u001b[0m ENOENT: no such file or directory, open '/content/package.json'\n",
            "\u001b[K\u001b[?25h\u001b[37;40mnpm\u001b[0m \u001b[0m\u001b[34;40mnotice\u001b[0m\u001b[35m\u001b[0m created a lockfile as package-lock.json. You should commit this file.\n",
            "\u001b[0m\u001b[37;40mnpm\u001b[0m \u001b[0m\u001b[30;43mWARN\u001b[0m \u001b[0m\u001b[35menoent\u001b[0m ENOENT: no such file or directory, open '/content/package.json'\n",
            "\u001b[0m\u001b[37;40mnpm\u001b[0m \u001b[0m\u001b[30;43mWARN\u001b[0m\u001b[35m\u001b[0m content No description\n",
            "\u001b[0m\u001b[37;40mnpm\u001b[0m \u001b[0m\u001b[30;43mWARN\u001b[0m\u001b[35m\u001b[0m content No repository field.\n",
            "\u001b[0m\u001b[37;40mnpm\u001b[0m \u001b[0m\u001b[30;43mWARN\u001b[0m\u001b[35m\u001b[0m content No README data\n",
            "\u001b[0m\u001b[37;40mnpm\u001b[0m \u001b[0m\u001b[30;43mWARN\u001b[0m\u001b[35m\u001b[0m content No license field.\n",
            "\u001b[0m\n",
            "+ node-nlp@4.27.0\n",
            "added 110 packages from 73 contributors and audited 110 packages in 37.671s\n",
            "found \u001b[91m4\u001b[0m vulnerabilities (3 \u001b[93mmoderate\u001b[0m, 1 \u001b[91mhigh\u001b[0m)\n",
            "  run `npm audit fix` to fix them, or `npm audit` for details\n",
            "\u001b[K\u001b[?25h"
          ]
        }
      ]
    },
    {
      "cell_type": "code",
      "source": [
        "!node index.js"
      ],
      "metadata": {
        "colab": {
          "base_uri": "https://localhost:8080/"
        },
        "id": "wNrXol8HmCYG",
        "outputId": "ccc9f0b9-509b-4ebf-a6a4-03f6f3d20485"
      },
      "execution_count": 5,
      "outputs": [
        {
          "output_type": "stream",
          "name": "stdout",
          "text": [
            "{ score: \u001b[33m0.344\u001b[39m,\n",
            "  numWords: \u001b[33m3\u001b[39m,\n",
            "  numHits: \u001b[33m1\u001b[39m,\n",
            "  average: \u001b[33m0.11466666666666665\u001b[39m,\n",
            "  type: \u001b[32m'senticon'\u001b[39m,\n",
            "  locale: \u001b[32m'en'\u001b[39m,\n",
            "  vote: \u001b[32m'positive'\u001b[39m }\n",
            "{ score: \u001b[33m-0.5\u001b[39m,\n",
            "  numWords: \u001b[33m3\u001b[39m,\n",
            "  numHits: \u001b[33m1\u001b[39m,\n",
            "  average: \u001b[33m-0.16666666666666666\u001b[39m,\n",
            "  type: \u001b[32m'senticon'\u001b[39m,\n",
            "  locale: \u001b[32m'en'\u001b[39m,\n",
            "  vote: \u001b[32m'negative'\u001b[39m }\n"
          ]
        }
      ]
    }
  ]
}