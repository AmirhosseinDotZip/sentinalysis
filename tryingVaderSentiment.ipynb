{
  "cells": [
    {
      "cell_type": "code",
      "execution_count": null,
      "metadata": {
        "colab": {
          "base_uri": "https://localhost:8080/"
        },
        "id": "cXAqXfyHaX5P",
        "outputId": "ba51072a-2704-488c-fd74-bfd2d0b5a4c9"
      },
      "outputs": [],
      "source": [
        "%pip install vaderSentiment"
      ]
    },
    {
      "cell_type": "code",
      "execution_count": 2,
      "metadata": {
        "id": "HRdBweDLbqW0"
      },
      "outputs": [],
      "source": [
        "from vaderSentiment.vaderSentiment import SentimentIntensityAnalyzer"
      ]
    },
    {
      "cell_type": "code",
      "execution_count": 7,
      "metadata": {
        "id": "ZxItSeiIbxQY"
      },
      "outputs": [],
      "source": [
        "sentences = [\"what is amirhossein doing\",\n",
        "             \"wow, he's a genius\",\n",
        "             \"butterflies\",\n",
        "             \"it's a happy ending\",\n",
        "             \"I'm very happy\",\n",
        "             \"Im ok\",\n",
        "             \"Im very sad\",\n",
        "             \"I'm feeling swiss\",\n",
        "             \"can i hug you?\",\n",
        "             \"I'm flying to the moon\",\n",
        "             \"Let's fly\",\n",
        "             \"Superman saved the kitten\",\n",
        "             \"he wept tears of joy\",\n",
        "             ]"
      ]
    },
    {
      "cell_type": "code",
      "execution_count": 8,
      "metadata": {
        "colab": {
          "base_uri": "https://localhost:8080/"
        },
        "id": "LPWOiGv1cHbn",
        "outputId": "bc46c301-be8b-411f-d4c0-7d0d9e52c02e"
      },
      "outputs": [
        {
          "name": "stdout",
          "output_type": "stream",
          "text": [
            "what is amirhossein doing---------------------------------------- {'neg': 0.0, 'neu': 1.0, 'pos': 0.0, 'compound': 0.0}\n",
            "wow, he's a genius----------------------------------------------- {'neg': 0.0, 'neu': 0.441, 'pos': 0.559, 'compound': 0.5859}\n",
            "butterflies------------------------------------------------------ {'neg': 0.0, 'neu': 1.0, 'pos': 0.0, 'compound': 0.0}\n",
            "it's a happy ending---------------------------------------------- {'neg': 0.0, 'neu': 0.448, 'pos': 0.552, 'compound': 0.5719}\n",
            "I'm very happy--------------------------------------------------- {'neg': 0.0, 'neu': 0.334, 'pos': 0.666, 'compound': 0.6115}\n",
            "Im ok------------------------------------------------------------ {'neg': 0.0, 'neu': 0.312, 'pos': 0.688, 'compound': 0.296}\n",
            "Im very sad------------------------------------------------------ {'neg': 0.629, 'neu': 0.371, 'pos': 0.0, 'compound': -0.5256}\n",
            "I'm feeling swiss------------------------------------------------ {'neg': 0.0, 'neu': 0.571, 'pos': 0.429, 'compound': 0.128}\n",
            "can i hug you?--------------------------------------------------- {'neg': 0.0, 'neu': 0.492, 'pos': 0.508, 'compound': 0.4767}\n",
            "I'm flying to the moon------------------------------------------- {'neg': 0.0, 'neu': 1.0, 'pos': 0.0, 'compound': 0.0}\n",
            "Let's fly-------------------------------------------------------- {'neg': 0.0, 'neu': 1.0, 'pos': 0.0, 'compound': 0.0}\n",
            "Superman saved the kitten---------------------------------------- {'neg': 0.0, 'neu': 0.517, 'pos': 0.483, 'compound': 0.4215}\n",
            "he wept tears of joy--------------------------------------------- {'neg': 0.458, 'neu': 0.187, 'pos': 0.355, 'compound': -0.0258}\n"
          ]
        }
      ],
      "source": [
        "analyzer = SentimentIntensityAnalyzer()\n",
        "for sentence in sentences:\n",
        "    vs = analyzer.polarity_scores(sentence)\n",
        "    print(\"{:-<65} {}\".format(sentence, str(vs)))"
      ]
    }
  ],
  "metadata": {
    "colab": {
      "provenance": []
    },
    "kernelspec": {
      "display_name": "Python 3",
      "name": "python3"
    },
    "language_info": {
      "codemirror_mode": {
        "name": "ipython",
        "version": 3
      },
      "file_extension": ".py",
      "mimetype": "text/x-python",
      "name": "python",
      "nbconvert_exporter": "python",
      "pygments_lexer": "ipython3",
      "version": "3.11.0"
    }
  },
  "nbformat": 4,
  "nbformat_minor": 0
}
