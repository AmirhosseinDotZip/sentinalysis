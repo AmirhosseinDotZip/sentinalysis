{
  "cells": [
    {
      "cell_type": "code",
      "execution_count": null,
      "metadata": {
        "id": "bFpZseamGAYG"
      },
      "outputs": [],
      "source": [
        "# working version on colab, link in README\n",
        "%pip install flair"
      ]
    },
    {
      "cell_type": "code",
      "execution_count": 2,
      "metadata": {
        "id": "sVuUzDd-BhHM"
      },
      "outputs": [
        {
          "name": "stderr",
          "output_type": "stream",
          "text": [
            "c:\\Python311\\Lib\\site-packages\\tqdm\\auto.py:21: TqdmWarning: IProgress not found. Please update jupyter and ipywidgets. See https://ipywidgets.readthedocs.io/en/stable/user_install.html\n",
            "  from .autonotebook import tqdm as notebook_tqdm\n"
          ]
        }
      ],
      "source": [
        "from flair.data import Sentence\n",
        "from flair.nn import Classifier"
      ]
    },
    {
      "cell_type": "code",
      "execution_count": null,
      "metadata": {
        "colab": {
          "base_uri": "https://localhost:8080/"
        },
        "id": "APdh_Sp5CWvs",
        "outputId": "24a73d2d-87a0-4ee0-e1cc-073f6f4e0d36"
      },
      "outputs": [],
      "source": [
        "sentence = Sentence('I Love Berlin .')\n",
        "tagger = Classifier.load('ner')\n",
        "tagger.predict(sentence)\n",
        "print(sentence)"
      ]
    },
    {
      "cell_type": "code",
      "execution_count": null,
      "metadata": {
        "colab": {
          "base_uri": "https://localhost:8080/"
        },
        "id": "FXDrTjH9BvjZ",
        "outputId": "5ec01835-b67c-49fd-f9e0-834a44b86d84"
      },
      "outputs": [
        {
          "name": "stderr",
          "output_type": "stream",
          "text": [
            "\n",
            "\u001b[A"
          ]
        }
      ],
      "source": [
        "sentence = Sentence('I don\\'t wanna Shoot hats.')\n",
        "tagger = Classifier.load('sentiment')\n",
        "tagger.predict(sentence)\n",
        "print(sentence)\n",
        "\n",
        "# Sentence[7]: \"I don't wanna Shoot hats.\" → POSITIVE (0.7054)"
      ]
    }
  ],
  "metadata": {
    "colab": {
      "provenance": []
    },
    "kernelspec": {
      "display_name": "Python 3",
      "name": "python3"
    },
    "language_info": {
      "codemirror_mode": {
        "name": "ipython",
        "version": 3
      },
      "file_extension": ".py",
      "mimetype": "text/x-python",
      "name": "python",
      "nbconvert_exporter": "python",
      "pygments_lexer": "ipython3",
      "version": "3.11.0"
    }
  },
  "nbformat": 4,
  "nbformat_minor": 0
}
